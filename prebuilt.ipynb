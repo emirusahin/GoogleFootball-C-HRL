{
 "cells": [
  {
   "metadata": {},
   "cell_type": "code",
   "outputs": [],
   "execution_count": null,
   "source": [
    "# code to run in the terminal to open the game\n",
    "# python -m gfootball.play_game --action_set=full"
   ],
   "id": "3f23795a085120ae"
  },
  {
   "metadata": {
    "ExecuteTime": {
     "end_time": "2025-04-12T17:57:03.660018Z",
     "start_time": "2025-04-12T17:57:03.538431Z"
    }
   },
   "cell_type": "code",
   "source": [
    "import time\n",
    "from IPython import display\n",
    "from gym_notebook_rendering import Renderer\n",
    "import gfootball.env as football_env\n",
    "\n",
    "# 1) Create the environment with rendering enabled\n",
    "env = football_env.create_environment(\n",
    "    env_name='11_vs_11_easy_stochastic',\n",
    "    representation='pixels',    # we want pixel frames for inline display\n",
    "    render=True,\n",
    "    write_video=False\n",
    ")\n",
    "\n",
    "# 2) Wrap it in the Renderer for inline display\n",
    "renderer = Renderer(env)\n",
    "\n",
    "# 3) Reset to start a new episode\n",
    "obs = env.reset()\n",
    "\n",
    "# 4) Step through a few frames and display them\n",
    "for _ in range(200):\n",
    "    # sample a random action (or replace with your policy)\n",
    "    action = env.action_space.sample()\n",
    "    obs, reward, done, info = env.step(action)\n",
    "\n",
    "    # capture & display the frame\n",
    "    frame = renderer.render()\n",
    "    display.clear_output(wait=True)\n",
    "    display.display(frame)\n",
    "\n",
    "    time.sleep(1/30)  # ~30 FPS\n",
    "\n",
    "    if done:\n",
    "        break\n",
    "\n",
    "# 5) Close when done\n",
    "env.close()\n"
   ],
   "id": "86adf8459cf911a",
   "outputs": [
    {
     "ename": "ModuleNotFoundError",
     "evalue": "No module named 'gym_notebook_rendering'",
     "output_type": "error",
     "traceback": [
      "\u001B[1;31m---------------------------------------------------------------------------\u001B[0m",
      "\u001B[1;31mModuleNotFoundError\u001B[0m                       Traceback (most recent call last)",
      "Cell \u001B[1;32mIn[2], line 3\u001B[0m\n\u001B[0;32m      1\u001B[0m \u001B[38;5;28;01mimport\u001B[39;00m\u001B[38;5;250m \u001B[39m\u001B[38;5;21;01mtime\u001B[39;00m\n\u001B[0;32m      2\u001B[0m \u001B[38;5;28;01mfrom\u001B[39;00m\u001B[38;5;250m \u001B[39m\u001B[38;5;21;01mIPython\u001B[39;00m\u001B[38;5;250m \u001B[39m\u001B[38;5;28;01mimport\u001B[39;00m display\n\u001B[1;32m----> 3\u001B[0m \u001B[38;5;28;01mfrom\u001B[39;00m\u001B[38;5;250m \u001B[39m\u001B[38;5;21;01mgym_notebook_rendering\u001B[39;00m\u001B[38;5;250m \u001B[39m\u001B[38;5;28;01mimport\u001B[39;00m Renderer\n\u001B[0;32m      4\u001B[0m \u001B[38;5;28;01mimport\u001B[39;00m\u001B[38;5;250m \u001B[39m\u001B[38;5;21;01mgfootball\u001B[39;00m\u001B[38;5;21;01m.\u001B[39;00m\u001B[38;5;21;01menv\u001B[39;00m\u001B[38;5;250m \u001B[39m\u001B[38;5;28;01mas\u001B[39;00m\u001B[38;5;250m \u001B[39m\u001B[38;5;21;01mfootball_env\u001B[39;00m\n\u001B[0;32m      6\u001B[0m \u001B[38;5;66;03m# 1) Create the environment with rendering enabled\u001B[39;00m\n",
      "\u001B[1;31mModuleNotFoundError\u001B[0m: No module named 'gym_notebook_rendering'"
     ]
    }
   ],
   "execution_count": 2
  },
  {
   "metadata": {},
   "cell_type": "code",
   "outputs": [],
   "execution_count": null,
   "source": "",
   "id": "c5c1523c3851add8"
  }
 ],
 "metadata": {
  "kernelspec": {
   "display_name": "Python 3",
   "language": "python",
   "name": "python3"
  },
  "language_info": {
   "codemirror_mode": {
    "name": "ipython",
    "version": 2
   },
   "file_extension": ".py",
   "mimetype": "text/x-python",
   "name": "python",
   "nbconvert_exporter": "python",
   "pygments_lexer": "ipython2",
   "version": "2.7.6"
  }
 },
 "nbformat": 4,
 "nbformat_minor": 5
}
